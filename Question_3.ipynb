{
 "cells": [
  {
   "cell_type": "markdown",
   "id": "a82c72fd",
   "metadata": {},
   "source": [
    "### Sum of Numbers in a list using a for loop"
   ]
  },
  {
   "cell_type": "code",
   "execution_count": 6,
   "id": "abcae995",
   "metadata": {
    "scrolled": true
   },
   "outputs": [
    {
     "name": "stdout",
     "output_type": "stream",
     "text": [
      "1\n",
      "2\n",
      "3\n",
      "4\n",
      "5\n",
      "The Sum of Numbers in the list is: 15\n"
     ]
    }
   ],
   "source": [
    "list1 = [1,2,3,4,5]\n",
    "sum = 0\n",
    "for i in list1:\n",
    "    print(i)\n",
    "    sum +=i\n",
    "    \n",
    "print(\"The Sum of Numbers in the list is:\",sum)"
   ]
  },
  {
   "cell_type": "markdown",
   "id": "c771f71f",
   "metadata": {},
   "source": [
    "### Dictionary comprehension"
   ]
  },
  {
   "cell_type": "markdown",
   "id": "5d8c6013",
   "metadata": {},
   "source": [
    "It is a efficient and concise way to do a operation in a single line "
   ]
  },
  {
   "cell_type": "code",
   "execution_count": 7,
   "id": "16badfd8",
   "metadata": {},
   "outputs": [
    {
     "name": "stdout",
     "output_type": "stream",
     "text": [
      "{1: 1, 2: 4, 3: 9, 4: 16, 5: 25}\n"
     ]
    }
   ],
   "source": [
    "squares = {x:x**2 for x in range(1, 6)}\n",
    "print(squares)"
   ]
  },
  {
   "cell_type": "markdown",
   "id": "a51382e6",
   "metadata": {},
   "source": [
    "### Find the Prime Number  "
   ]
  },
  {
   "cell_type": "code",
   "execution_count": 9,
   "id": "832d457e",
   "metadata": {},
   "outputs": [
    {
     "name": "stdout",
     "output_type": "stream",
     "text": [
      "Enter a number:6\n",
      "Not a prime number\n"
     ]
    }
   ],
   "source": [
    "num = int(input(\"Enter a number:\"))\n",
    "if num < 2:\n",
    "    print(\"Not a prime number\")\n",
    "else:\n",
    "    prime = True\n",
    "    for i in range(2, num):\n",
    "        if num % i == 0:\n",
    "            prime = False\n",
    "            break\n",
    "\n",
    "    if prime:\n",
    "        print(\"Yes it's a Prime number\")\n",
    "    else:\n",
    "        print(\"Not a prime number\")\n"
   ]
  },
  {
   "cell_type": "markdown",
   "id": "965c2254",
   "metadata": {},
   "source": [
    "### Handle Division by zero "
   ]
  },
  {
   "cell_type": "code",
   "execution_count": 13,
   "id": "4087f51c",
   "metadata": {},
   "outputs": [
    {
     "name": "stdout",
     "output_type": "stream",
     "text": [
      "Enter the Number 1:3\n",
      "Enter the Number 20\n",
      "Division by zero is Not possible \n"
     ]
    }
   ],
   "source": [
    "num1 = int(input(\"Enter the Number 1:\"))\n",
    "num2 = int(input(\"Enter the Number 2\"))\n",
    "try:\n",
    "    result = num1/num2\n",
    "    print(result)\n",
    "except ZeroDivisionError:\n",
    "    print(\"Division by zero is Not possible \")"
   ]
  },
  {
   "cell_type": "markdown",
   "id": "fd10d23a",
   "metadata": {},
   "source": [
    "### name == main block does \n"
   ]
  },
  {
   "cell_type": "markdown",
   "id": "7ee9fbba",
   "metadata": {},
   "source": [
    "->If the file is run directly then __name__ is set to \"__main__\"\n",
    "->If the file is imported into another Python file then __name__ is set to the name of that particular file"
   ]
  }
 ],
 "metadata": {
  "kernelspec": {
   "display_name": "Python 3 (ipykernel)",
   "language": "python",
   "name": "python3"
  },
  "language_info": {
   "codemirror_mode": {
    "name": "ipython",
    "version": 3
   },
   "file_extension": ".py",
   "mimetype": "text/x-python",
   "name": "python",
   "nbconvert_exporter": "python",
   "pygments_lexer": "ipython3",
   "version": "3.10.9"
  }
 },
 "nbformat": 4,
 "nbformat_minor": 5
}
