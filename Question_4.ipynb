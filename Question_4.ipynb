{
 "cells": [
  {
   "cell_type": "markdown",
   "id": "6b06d7f4",
   "metadata": {},
   "source": [
    "### Function that take strings and returns the count of vowels "
   ]
  },
  {
   "cell_type": "code",
   "execution_count": 11,
   "id": "3eedd362",
   "metadata": {},
   "outputs": [],
   "source": [
    "def vowels(string1):\n",
    "    sum = 0\n",
    "    for i in string1:\n",
    "        if i in \"AEIOUaeiou\":\n",
    "            sum+=1\n",
    "    print(\"The count of vowels in the given string is:\",sum)"
   ]
  },
  {
   "cell_type": "code",
   "execution_count": 13,
   "id": "f2093cf8",
   "metadata": {},
   "outputs": [
    {
     "name": "stdout",
     "output_type": "stream",
     "text": [
      "The count of vowels in the given string is: 6\n"
     ]
    }
   ],
   "source": [
    "vowels(\"Nivetha Kamaraj\")"
   ]
  },
  {
   "cell_type": "markdown",
   "id": "925c2696",
   "metadata": {},
   "source": [
    "### Swap two variables without using the temp Variable  "
   ]
  },
  {
   "cell_type": "code",
   "execution_count": 15,
   "id": "344acbf4",
   "metadata": {},
   "outputs": [],
   "source": [
    "Fav_place1 = \"switzerland\"\n",
    "Fav_place2 = \"maldives\" \n",
    "Fav_place1, Fav_place2 = Fav_place2, Fav_place1"
   ]
  },
  {
   "cell_type": "code",
   "execution_count": 16,
   "id": "4e9ad332",
   "metadata": {},
   "outputs": [
    {
     "name": "stdout",
     "output_type": "stream",
     "text": [
      "maldives\n",
      "switzerland\n"
     ]
    }
   ],
   "source": [
    "print(Fav_place1)\n",
    "print(Fav_place2)"
   ]
  },
  {
   "cell_type": "markdown",
   "id": "76e29f77",
   "metadata": {},
   "source": [
    "### Lambda with filter() to get odd Numbers from a list "
   ]
  },
  {
   "cell_type": "code",
   "execution_count": 19,
   "id": "a7458296",
   "metadata": {},
   "outputs": [
    {
     "name": "stdout",
     "output_type": "stream",
     "text": [
      "[1, 3, 5, 7, 9]\n"
     ]
    }
   ],
   "source": [
    "list1 = [1,2,3,4,5,6,7,8,9]\n",
    "odd_Numbers = list(filter(lambda x:x %2 !=0, list1))\n",
    "print(odd_Numbers )"
   ]
  },
  {
   "cell_type": "markdown",
   "id": "173c20ab",
   "metadata": {},
   "source": [
    "### Class with Attributes (Name, age), method to display it "
   ]
  },
  {
   "cell_type": "code",
   "execution_count": 27,
   "id": "25e0a50c",
   "metadata": {},
   "outputs": [],
   "source": [
    "class person:\n",
    "    def __init__(self, name, age): #Constructor \n",
    "        self.name = name\n",
    "        self.age = age\n",
    "    def show(self):\n",
    "        print(\"My name is\",self.name, \"and my age is\",self.age)"
   ]
  },
  {
   "cell_type": "code",
   "execution_count": 28,
   "id": "18260c9b",
   "metadata": {},
   "outputs": [
    {
     "name": "stdout",
     "output_type": "stream",
     "text": [
      "My name is Nivetha and my age is 22\n"
     ]
    }
   ],
   "source": [
    "n1 = person(\"Nivetha\",22)\n",
    "n1.show()"
   ]
  },
  {
   "cell_type": "markdown",
   "id": "bb9222ea",
   "metadata": {},
   "source": [
    "### *args and **kwargs  "
   ]
  },
  {
   "cell_type": "markdown",
   "id": "2216ef73",
   "metadata": {},
   "source": [
    "*args - accepts many number of arguments ( def func_name(*args))\n",
    "** kwargs - keyword argumens \n",
    "\n",
    "I'm not sure to write the example for this - did 3 attempts "
   ]
  },
  {
   "cell_type": "code",
   "execution_count": null,
   "id": "c8fbff70",
   "metadata": {},
   "outputs": [],
   "source": []
  }
 ],
 "metadata": {
  "kernelspec": {
   "display_name": "Python 3 (ipykernel)",
   "language": "python",
   "name": "python3"
  },
  "language_info": {
   "codemirror_mode": {
    "name": "ipython",
    "version": 3
   },
   "file_extension": ".py",
   "mimetype": "text/x-python",
   "name": "python",
   "nbconvert_exporter": "python",
   "pygments_lexer": "ipython3",
   "version": "3.10.9"
  }
 },
 "nbformat": 4,
 "nbformat_minor": 5
}
