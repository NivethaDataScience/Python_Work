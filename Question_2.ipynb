{
 "cells": [
  {
   "cell_type": "markdown",
   "id": "8745d314",
   "metadata": {},
   "source": [
    "### Factorial of a Number using Recursive Function\n"
   ]
  },
  {
   "cell_type": "markdown",
   "id": "dfd973b7",
   "metadata": {},
   "source": [
    "Recursive Function - Function that call itself "
   ]
  },
  {
   "cell_type": "code",
   "execution_count": 4,
   "id": "bcc64c38",
   "metadata": {},
   "outputs": [],
   "source": [
    "def facto(n):\n",
    "    if n == 0 or n == 1:\n",
    "        return 1\n",
    "    else:\n",
    "        return n * facto(n - 1)#Recursive Funtion  "
   ]
  },
  {
   "cell_type": "code",
   "execution_count": 5,
   "id": "fa375362",
   "metadata": {},
   "outputs": [
    {
     "data": {
      "text/plain": [
       "120"
      ]
     },
     "execution_count": 5,
     "metadata": {},
     "output_type": "execute_result"
    }
   ],
   "source": [
    "facto(5)"
   ]
  },
  {
   "cell_type": "markdown",
   "id": "f5f1ff1c",
   "metadata": {},
   "source": [
    "### Append and extend"
   ]
  },
  {
   "cell_type": "markdown",
   "id": "d9762cee",
   "metadata": {},
   "source": [
    "Append - is used to add an single element at the end of the existing   list "
   ]
  },
  {
   "cell_type": "code",
   "execution_count": 7,
   "id": "52bc40c3",
   "metadata": {},
   "outputs": [
    {
     "name": "stdout",
     "output_type": "stream",
     "text": [
      "[1, 2, 3, 4, 5, [6, 7]]\n"
     ]
    }
   ],
   "source": [
    "list_ = [1,2,3,4,5]\n",
    "list_.append([6,7])#Takes as a single element \n",
    "print(list_)"
   ]
  },
  {
   "cell_type": "markdown",
   "id": "15843301",
   "metadata": {},
   "source": [
    "Extend - is used to add multiple elements at the end of the existing list "
   ]
  },
  {
   "cell_type": "code",
   "execution_count": 8,
   "id": "394ebdbf",
   "metadata": {},
   "outputs": [
    {
     "name": "stdout",
     "output_type": "stream",
     "text": [
      "[1, 2, 3, 4, 5, 6, 7]\n"
     ]
    }
   ],
   "source": [
    "list_ = [1,2,3,4,5]\n",
    "list_.extend([6,7])\n",
    "print(list_)"
   ]
  },
  {
   "cell_type": "markdown",
   "id": "0ccaf009",
   "metadata": {},
   "source": [
    "### Return a Unique element from the list"
   ]
  },
  {
   "cell_type": "markdown",
   "id": "d109fb45",
   "metadata": {},
   "source": [
    "Set contains only unique values and it removes the duplicates automaticallly "
   ]
  },
  {
   "cell_type": "code",
   "execution_count": 11,
   "id": "822246df",
   "metadata": {},
   "outputs": [
    {
     "name": "stdout",
     "output_type": "stream",
     "text": [
      "[1, 2, 3, 4, 5, 6, 7]\n"
     ]
    }
   ],
   "source": [
    "list1 = [1,2,3,3,4,4,5,6,7,7]\n",
    "unique__ = list(set(list1)) \n",
    "print(unique__)"
   ]
  },
  {
   "cell_type": "markdown",
   "id": "55a1243b",
   "metadata": {},
   "source": [
    "### Reading a json file and print it contents  "
   ]
  },
  {
   "cell_type": "code",
   "execution_count": 15,
   "id": "5007f21d",
   "metadata": {},
   "outputs": [
    {
     "name": "stdout",
     "output_type": "stream",
     "text": [
      "{'name': 'Nivetha ', 'age': 22, 'city': 'Chennai'}\n"
     ]
    }
   ],
   "source": [
    "import json\n",
    "file = open('data.json', 'r')\n",
    "data = json.load(file)\n",
    "print(data)\n",
    "file.close()"
   ]
  },
  {
   "cell_type": "markdown",
   "id": "330adea1",
   "metadata": {},
   "source": [
    "### Output for the code "
   ]
  },
  {
   "cell_type": "code",
   "execution_count": 14,
   "id": "47cc8736",
   "metadata": {},
   "outputs": [
    {
     "name": "stdout",
     "output_type": "stream",
     "text": [
      "[1, 2, 3, 4]\n",
      "True\n"
     ]
    }
   ],
   "source": [
    "a = [1,2,3]\n",
    "b = a \n",
    "b.append(4)\n",
    "print(a)\n",
    "print( a is b )"
   ]
  },
  {
   "cell_type": "markdown",
   "id": "950ad9d9",
   "metadata": {},
   "source": []
  }
 ],
 "metadata": {
  "kernelspec": {
   "display_name": "Python 3 (ipykernel)",
   "language": "python",
   "name": "python3"
  },
  "language_info": {
   "codemirror_mode": {
    "name": "ipython",
    "version": 3
   },
   "file_extension": ".py",
   "mimetype": "text/x-python",
   "name": "python",
   "nbconvert_exporter": "python",
   "pygments_lexer": "ipython3",
   "version": "3.10.9"
  }
 },
 "nbformat": 4,
 "nbformat_minor": 5
}
