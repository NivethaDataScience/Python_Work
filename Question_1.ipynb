{
 "cells": [
  {
   "cell_type": "markdown",
   "id": "4eab0c3a",
   "metadata": {},
   "source": [
    "### Check the Given String is Palindrome or Not "
   ]
  },
  {
   "cell_type": "markdown",
   "id": "71fb3d1a",
   "metadata": {},
   "source": [
    "String Slicing is used to reverse the string"
   ]
  },
  {
   "cell_type": "code",
   "execution_count": 5,
   "id": "4cf0547c",
   "metadata": {},
   "outputs": [
    {
     "name": "stdout",
     "output_type": "stream",
     "text": [
      "Enter the String:Mom\n",
      "The given string is Palindrome\n"
     ]
    }
   ],
   "source": [
    "string = input(\"Enter the String:\")\n",
    "str1 = string.lower()\n",
    "if str1 == str1[::-1]:\n",
    "    print(\"The given string is Palindrome\")\n",
    "else:\n",
    "    print(\"The given string is not palindrome\")"
   ]
  },
  {
   "cell_type": "markdown",
   "id": "b3404ab4",
   "metadata": {},
   "source": [
    "### Create a dictionary from two list"
   ]
  },
  {
   "cell_type": "markdown",
   "id": "79c5781e",
   "metadata": {},
   "source": [
    "We have a two list, The item in list1 and the corresponding item in list2 needs to be stored as a key value pair in a dictionary.This can be done by using the zip() method."
   ]
  },
  {
   "cell_type": "code",
   "execution_count": 8,
   "id": "25ef2dcb",
   "metadata": {},
   "outputs": [
    {
     "name": "stdout",
     "output_type": "stream",
     "text": [
      "{'a': 1, 'b': 2, 'c': 3}\n"
     ]
    }
   ],
   "source": [
    "list1 = ['a','b','c']# string \n",
    "list2 = [1,2,3]#integer \n",
    "\n",
    "dict1 = dict(zip(list1, list2))\n",
    "print(dict1)"
   ]
  },
  {
   "cell_type": "markdown",
   "id": "3e983437",
   "metadata": {},
   "source": [
    "### Difference Between Tuple and List\n"
   ]
  },
  {
   "cell_type": "markdown",
   "id": "aaa6a98a",
   "metadata": {},
   "source": [
    "List \n",
    "\n",
    "-> List are ordered and Mutable (Values can be changed).\n",
    "-> values are stored with in the square bracket, seperated by commas.\n",
    "-> Values in list can be accessed by using the index position. "
   ]
  },
  {
   "cell_type": "code",
   "execution_count": 25,
   "id": "8bbb46aa",
   "metadata": {},
   "outputs": [
    {
     "name": "stdout",
     "output_type": "stream",
     "text": [
      "['Thiyagesh', 'Kamaraj', 'Malathi']\n"
     ]
    }
   ],
   "source": [
    "List1 = ['Nivetha','Kamaraj','Malathi']\n",
    "List1[0] = 'Thiyagesh'\n",
    "print(List1)"
   ]
  },
  {
   "cell_type": "markdown",
   "id": "ca19ed25",
   "metadata": {},
   "source": [
    "Tuple \n",
    "\n",
    "-> Tuple are ordered and Immutable (values cannot be change)\n",
    "-> Values in Tuples are stored within Paranthesis, seperated by commos"
   ]
  },
  {
   "cell_type": "code",
   "execution_count": 28,
   "id": "01982c46",
   "metadata": {},
   "outputs": [
    {
     "name": "stdout",
     "output_type": "stream",
     "text": [
      "values Cannot be change \n"
     ]
    }
   ],
   "source": [
    "tuple1 = ('Nivetha', 'Kamaraj','Malathi')\n",
    "try:\n",
    "    tuple1[0] = 'Thiyagesh' #Error Raise \n",
    "except:\n",
    "    print(\"values Cannot be change \")"
   ]
  },
  {
   "cell_type": "markdown",
   "id": "573b8b49",
   "metadata": {},
   "source": [
    "### Reading a text file and count the word \"python\""
   ]
  },
  {
   "cell_type": "code",
   "execution_count": 126,
   "id": "2514957d",
   "metadata": {},
   "outputs": [],
   "source": [
    "file1 = open('Assignment_file.txt','r') "
   ]
  },
  {
   "cell_type": "code",
   "execution_count": 127,
   "id": "700451da",
   "metadata": {},
   "outputs": [],
   "source": [
    "count = 0 \n",
    "for line in file1:\n",
    "    if 'python' in line.lower():\n",
    "        count +=1"
   ]
  },
  {
   "cell_type": "code",
   "execution_count": 128,
   "id": "6f9ac78b",
   "metadata": {},
   "outputs": [],
   "source": [
    "file1.close()"
   ]
  },
  {
   "cell_type": "code",
   "execution_count": 130,
   "id": "c700aaef",
   "metadata": {},
   "outputs": [
    {
     "name": "stdout",
     "output_type": "stream",
     "text": [
      "The count of lines that the word python Occurs is : 2\n"
     ]
    }
   ],
   "source": [
    "print(f\"The count of lines that the word python Occurs is : {count}\") #Print using f-string "
   ]
  },
  {
   "cell_type": "markdown",
   "id": "066b557e",
   "metadata": {},
   "source": [
    "### List Comprehension \n"
   ]
  },
  {
   "cell_type": "markdown",
   "id": "5e01f6ee",
   "metadata": {},
   "source": [
    "It is a consise and Efficient way to create a new list based on an existing literals.\n"
   ]
  },
  {
   "cell_type": "code",
   "execution_count": 132,
   "id": "6fbb2259",
   "metadata": {},
   "outputs": [],
   "source": [
    "squares = [x**2 for x in range(10) if x%2 ==0]"
   ]
  },
  {
   "cell_type": "code",
   "execution_count": 133,
   "id": "d272f6f9",
   "metadata": {},
   "outputs": [
    {
     "name": "stdout",
     "output_type": "stream",
     "text": [
      "[0, 4, 16, 36, 64]\n"
     ]
    }
   ],
   "source": [
    "print(squares)"
   ]
  },
  {
   "cell_type": "markdown",
   "id": "69b19caf",
   "metadata": {},
   "source": [
    "The above code takes the divisible of 2 and it finds the exponentiation for the value x."
   ]
  }
 ],
 "metadata": {
  "kernelspec": {
   "display_name": "Python 3 (ipykernel)",
   "language": "python",
   "name": "python3"
  },
  "language_info": {
   "codemirror_mode": {
    "name": "ipython",
    "version": 3
   },
   "file_extension": ".py",
   "mimetype": "text/x-python",
   "name": "python",
   "nbconvert_exporter": "python",
   "pygments_lexer": "ipython3",
   "version": "3.10.9"
  }
 },
 "nbformat": 4,
 "nbformat_minor": 5
}
